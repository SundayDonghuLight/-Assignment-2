{
 "cells": [
  {
   "cell_type": "code",
   "execution_count": 1,
   "metadata": {},
   "outputs": [
    {
     "name": "stdout",
     "output_type": "stream",
     "text": [
      "(70000, 784)\n",
      "(70000,)\n"
     ]
    }
   ],
   "source": [
    "import numpy as np\n",
    "import random\n",
    "import matplotlib.pyplot as plt\n",
    "from sklearn.decomposition import PCA\n",
    "from sklearn.svm import SVC\n",
    "from sklearn.datasets import fetch_mldata\n",
    "mnist = fetch_mldata('MNIST original')\n",
    "print(mnist.data.shape)\n",
    "print(mnist.target.shape)"
   ]
  },
  {
   "cell_type": "markdown",
   "metadata": {},
   "source": [
    "<p>'MNIST original'的資料分成 data 和 target 兩部分</p>\n",
    "<p>data 存了70000筆784(28$\\times$28)像素的圖片</p>\n",
    "<p>target 則是70000張圖片所對應到數字(0~9)</p>\n",
    "<p>先隨便秀一張出來看看</p>"
   ]
  },
  {
   "cell_type": "code",
   "execution_count": 2,
   "metadata": {},
   "outputs": [
    {
     "data": {
      "image/png": "[encoded data removed]",
      "text/plain": [
       "<Figure size 432x288 with 1 Axes>"
      ]
     },
     "metadata": {},
     "output_type": "display_data"
    }
   ],
   "source": [
    "img = mnist.data[10000].reshape(28,28)\n",
    "plt.imshow(img, cmap='Greys_r')\n",
    "plt.axis('off')\n",
    "plt.show()"
   ]
  },
  {
   "cell_type": "markdown",
   "metadata": {},
   "source": [
    "<p>但注意到這個資料集是有排序的</p>\n",
    "<p>依序從0~9，一種數字的圖片完了才換下一種</p>\n",
    "<p>以下我們抓最前面和最後面連續幾張出來示意一下</p>"
   ]
  },
  {
   "cell_type": "code",
   "execution_count": 3,
   "metadata": {},
   "outputs": [
    {
     "data": {
      "image/png": "[encoded data removed]",
      "text/plain": [
       "<Figure size 432x288 with 1 Axes>"
      ]
     },
     "metadata": {},
     "output_type": "display_data"
    },
    {
     "data": {
      "image/png": "[encoded data removed]",
      "text/plain": [
       "<Figure size 432x288 with 1 Axes>"
      ]
     },
     "metadata": {},
     "output_type": "display_data"
    },
    {
     "data": {
      "image/png": "[encoded data removed]",
      "text/plain": [
       "<Figure size 432x288 with 1 Axes>"
      ]
     },
     "metadata": {},
     "output_type": "display_data"
    },
    {
     "data": {
      "image/png": "[encoded data removed]",
      "text/plain": [
       "<Figure size 432x288 with 1 Axes>"
      ]
     },
     "metadata": {},
     "output_type": "display_data"
    }
   ],
   "source": [
    "for i in range(4):\n",
    "    img = mnist.data[i].reshape(28,28)\n",
    "    plt.imshow(img, cmap='Greys_r')\n",
    "    plt.axis('off')\n",
    "    plt.show()"
   ]
  },
  {
   "cell_type": "code",
   "execution_count": 4,
   "metadata": {},
   "outputs": [
    {
     "name": "stdout",
     "output_type": "stream",
     "text": [
      "0.0\n",
      "0.0\n",
      "0.0\n",
      "0.0\n"
     ]
    }
   ],
   "source": [
    "for i in range(4):\n",
    "    print(mnist.target[i])"
   ]
  },
  {
   "cell_type": "code",
   "execution_count": 5,
   "metadata": {},
   "outputs": [
    {
     "data": {
      "image/png": "[encoded data removed]",
      "text/plain": [
       "<Figure size 432x288 with 1 Axes>"
      ]
     },
     "metadata": {},
     "output_type": "display_data"
    },
    {
     "data": {
      "image/png": "[encoded data removed]",
      "text/plain": [
       "<Figure size 432x288 with 1 Axes>"
      ]
     },
     "metadata": {},
     "output_type": "display_data"
    },
    {
     "data": {
      "image/png": "[encoded data removed]",
      "text/plain": [
       "<Figure size 432x288 with 1 Axes>"
      ]
     },
     "metadata": {},
     "output_type": "display_data"
    }
   ],
   "source": [
    "for i in range(69997,70000):\n",
    "    img = mnist.data[i].reshape(28,28)\n",
    "    plt.imshow(img, cmap='Greys_r')\n",
    "    plt.axis('off')\n",
    "    plt.show()"
   ]
  },
  {
   "cell_type": "markdown",
   "metadata": {},
   "source": [
    "<p>因為資料集有照數字順序排列，所以不能直接將前60000筆與後10000筆分成訓練和測試的資料集</p>\n",
    "<p>會產生測試的數字都沒學過的窘境，這邊用隨機的方式將資料分成訓練用和測試用兩部分</p>"
   ]
  },
  {
   "cell_type": "code",
   "execution_count": 6,
   "metadata": {},
   "outputs": [],
   "source": [
    "index = np.arange(len(mnist.data))\n",
    "random.shuffle(index)\n",
    "train_index = index[0:60000]\n",
    "test_index = index[60000:70000]\n",
    "X_train, y_train = mnist.data[train_index], mnist.target[train_index]\n",
    "X_test, y_test = mnist.data[test_index], mnist.target[test_index]"
   ]
  },
  {
   "cell_type": "markdown",
   "metadata": {},
   "source": [
    "<p>展示一下前5筆訓練資料，確認是否真的已經打散了</p>\n",
    "<p>這邊可以特別留一下第四筆的那個 9 ，就算給人類辨識恐怕也很難正確的識別</p>"
   ]
  },
  {
   "cell_type": "code",
   "execution_count": 7,
   "metadata": {},
   "outputs": [
    {
     "data": {
      "image/png": "[encoded data removed]",
      "text/plain": [
       "<Figure size 432x288 with 1 Axes>"
      ]
     },
     "metadata": {},
     "output_type": "display_data"
    },
    {
     "name": "stdout",
     "output_type": "stream",
     "text": [
      "6.0\n"
     ]
    },
    {
     "data": {
      "image/png": "[encoded data removed]",
      "text/plain": [
       "<Figure size 432x288 with 1 Axes>"
      ]
     },
     "metadata": {},
     "output_type": "display_data"
    },
    {
     "name": "stdout",
     "output_type": "stream",
     "text": [
      "1.0\n"
     ]
    },
    {
     "data": {
      "image/png": "[encoded data removed]",
      "text/plain": [
       "<Figure size 432x288 with 1 Axes>"
      ]
     },
     "metadata": {},
     "output_type": "display_data"
    },
    {
     "name": "stdout",
     "output_type": "stream",
     "text": [
      "7.0\n"
     ]
    },
    {
     "data": {
      "image/png": "[encoded data removed]",
      "text/plain": [
       "<Figure size 432x288 with 1 Axes>"
      ]
     },
     "metadata": {},
     "output_type": "display_data"
    },
    {
     "name": "stdout",
     "output_type": "stream",
     "text": [
      "9.0\n"
     ]
    },
    {
     "data": {
      "image/png": "[encoded data removed]",
      "text/plain": [
       "<Figure size 432x288 with 1 Axes>"
      ]
     },
     "metadata": {},
     "output_type": "display_data"
    },
    {
     "name": "stdout",
     "output_type": "stream",
     "text": [
      "2.0\n"
     ]
    }
   ],
   "source": [
    "for i in range(5):\n",
    "    img = X_train[i].reshape(28,28)\n",
    "    plt.imshow(img, cmap='Greys_r')\n",
    "    plt.axis('off')\n",
    "    plt.show()\n",
    "    print(y_train[i])"
   ]
  },
  {
   "cell_type": "markdown",
   "metadata": {},
   "source": [
    "<p>再來要對我們的data進行維度的化簡(Dimension Reduction)</p>\n",
    "<p>使用主成分分析(Principal components analysis，PCA)的方法實現</p>\n",
    "<p>先試試能解釋掉97%變異的版本，還原後秀出的圖片效果還算不錯</p>\n",
    "<p>不過仍需要用到213個成分來表達，即降至213維</p>"
   ]
  },
  {
   "cell_type": "code",
   "execution_count": 8,
   "metadata": {},
   "outputs": [
    {
     "name": "stdout",
     "output_type": "stream",
     "text": [
      "213\n",
      "0.9700310740752591\n"
     ]
    }
   ],
   "source": [
    "pca = PCA(n_components=0.97 , svd_solver='full')\n",
    "newX_train = pca.fit_transform(X_train)\n",
    "newX_test = pca.transform(X_test)\n",
    "newX_train = newX_train/255\n",
    "newX_test = newX_test/255\n",
    "print(pca.n_components_)\n",
    "print(sum(pca.explained_variance_ratio_))"
   ]
  },
  {
   "cell_type": "code",
   "execution_count": 9,
   "metadata": {},
   "outputs": [
    {
     "data": {
      "image/png": "[encoded data removed]",
      "text/plain": [
       "<Figure size 432x288 with 1 Axes>"
      ]
     },
     "metadata": {},
     "output_type": "display_data"
    },
    {
     "name": "stdout",
     "output_type": "stream",
     "text": [
      "6.0\n"
     ]
    }
   ],
   "source": [
    "img = pca.inverse_transform(newX_train[0]*255)\n",
    "img = img.reshape(28,28)\n",
    "plt.imshow(img, cmap='Greys_r')\n",
    "plt.axis('off')\n",
    "plt.show()\n",
    "print(y_train[0])"
   ]
  },
  {
   "cell_type": "markdown",
   "metadata": {},
   "source": [
    "<p>再來看到維度降至30的版本</p>\n",
    "<p>僅解釋掉了73%的變異，還原後的圖片還能辨識，不過也明顯模糊了不少</p>\n",
    "<p>但實際上在這維度較低的情況下，辨識器反而有了更佳出色的表現</p>"
   ]
  },
  {
   "cell_type": "code",
   "execution_count": 10,
   "metadata": {},
   "outputs": [
    {
     "name": "stdout",
     "output_type": "stream",
     "text": [
      "30\n",
      "[335143.91095583 245401.28019159 211166.35289893 185258.68971985\n",
      " 167701.82461686 147804.00183656 112621.73784284  98991.48376452\n",
      "  94760.05974489  80414.75259171  72214.14071187  70261.74282109\n",
      "  58596.58299462  58222.52630448  54361.45331494  50986.72014509\n",
      "  45494.70788512  43889.59733865  40778.50599461  39530.54225959\n",
      "  36374.64659473  34644.85890526  32853.97917083  31219.37560888\n",
      "  30296.57374554  28902.78162821  27721.55297273  26881.24252629\n",
      "  25382.19720244  23642.81984814]\n",
      "[0.0976442  0.07149768 0.06152333 0.05397513 0.04885994 0.0430627\n",
      " 0.03281235 0.02884117 0.02760835 0.02342884 0.02103959 0.02047076\n",
      " 0.01707212 0.01696314 0.01583821 0.01485498 0.01325489 0.01278724\n",
      " 0.01188082 0.01151723 0.01059776 0.01009378 0.00957201 0.00909577\n",
      " 0.00882691 0.00842083 0.00807668 0.00783185 0.0073951  0.00688834]\n",
      "0.7317316920684869\n"
     ]
    }
   ],
   "source": [
    "pca = PCA(n_components=30)\n",
    "newX_train = pca.fit_transform(X_train)\n",
    "newX_test = pca.transform(X_test)\n",
    "newX_train = newX_train/255\n",
    "newX_test = newX_test/255\n",
    "print(pca.n_components_)\n",
    "print(pca.explained_variance_)\n",
    "print(pca.explained_variance_ratio_)\n",
    "print(sum(pca.explained_variance_ratio_))"
   ]
  },
  {
   "cell_type": "code",
   "execution_count": 11,
   "metadata": {},
   "outputs": [
    {
     "name": "stdout",
     "output_type": "stream",
     "text": [
      "(60000, 30)\n",
      "(10000, 30)\n"
     ]
    }
   ],
   "source": [
    "print(newX_train.shape)\n",
    "print(newX_test.shape)"
   ]
  },
  {
   "cell_type": "code",
   "execution_count": 12,
   "metadata": {},
   "outputs": [
    {
     "name": "stdout",
     "output_type": "stream",
     "text": [
      "[ 3.47505082 -0.41036824  0.8417943   2.66116165  2.078913   -2.0374297\n",
      "  0.70724602 -2.71913034 -0.53999122  0.80649087 -1.92377011 -0.15169991\n",
      "  0.31957543  0.00936764  0.65800358 -1.4268259   0.45465513  1.07155661\n",
      "  0.74045223 -0.50392801  1.27455116  0.48063838 -0.72933084 -0.87153986\n",
      " -0.0459079   0.66131707 -0.50311112  0.06548257  0.06388925 -0.14932155]\n"
     ]
    },
    {
     "data": {
      "image/png": "[encoded data removed]",
      "text/plain": [
       "<Figure size 432x288 with 1 Axes>"
      ]
     },
     "metadata": {},
     "output_type": "display_data"
    },
    {
     "name": "stdout",
     "output_type": "stream",
     "text": [
      "6.0\n"
     ]
    }
   ],
   "source": [
    "print(newX_train[0])\n",
    "img = pca.inverse_transform(newX_train[0]*255)\n",
    "img = img.reshape(28,28)\n",
    "plt.imshow(img, cmap='Greys_r')\n",
    "plt.axis('off')\n",
    "plt.show()\n",
    "print(y_train[0])"
   ]
  },
  {
   "cell_type": "markdown",
   "metadata": {},
   "source": [
    "<p>使用SVC(Support Vector Classification)進行模型的訓練與辨識</p>\n",
    "<p>有著相當出色的辨識率，對測試資料也達到了98%</p>"
   ]
  },
  {
   "cell_type": "code",
   "execution_count": 13,
   "metadata": {},
   "outputs": [
    {
     "name": "stdout",
     "output_type": "stream",
     "text": [
      "訓練資料辨識率: 0.9912833333333333\n",
      "測試資料辨識率: 0.9801\n"
     ]
    }
   ],
   "source": [
    "clf = SVC()\n",
    "clf.fit(newX_train, y_train)\n",
    "print(\"訓練資料辨識率:\",np.mean(clf.predict(newX_train) == y_train))\n",
    "print(\"測試資料辨識率:\",np.mean(clf.predict(newX_test) == y_test)) "
   ]
  },
  {
   "cell_type": "markdown",
   "metadata": {},
   "source": [
    "稍微看一下我們所訓練出來的支持向量(Support Vectors)"
   ]
  },
  {
   "cell_type": "code",
   "execution_count": 14,
   "metadata": {},
   "outputs": [
    {
     "name": "stdout",
     "output_type": "stream",
     "text": [
      "[   80   175   274 ... 59954 59956 59984]\n",
      "(10142,)\n",
      "[[ 5.36596681 -0.7071371  -3.21947325 ...  0.66312636 -1.17823336\n",
      "   0.86912035]\n",
      " [ 0.70931697 -0.2476552  -0.23479083 ... -1.0837725  -0.33227122\n",
      "  -0.30002169]\n",
      " [ 2.49296818 -0.53250147 -0.12011075 ... -1.36115817 -0.12535155\n",
      "   0.94404145]\n",
      " ...\n",
      " [-0.81600162  1.97549734  0.25165286 ... -0.82148394  0.15362104\n",
      "  -0.78994748]\n",
      " [-0.72474738  1.18960451 -0.11624841 ...  0.33828941 -0.3039253\n",
      "  -1.37084497]\n",
      " [-1.13320831  0.55846794 -2.86448033 ... -0.53206309  0.73573195\n",
      "   0.34001719]]\n",
      "(10142, 30)\n",
      "\n",
      " [ 696  417 1134 1236 1050 1246  748  911 1328 1376]\n"
     ]
    }
   ],
   "source": [
    "print(clf.support_)\n",
    "print(clf.support_.shape)\n",
    "print(clf.support_vectors_)\n",
    "print(clf.support_vectors_.shape)\n",
    "print(\"\\n\",clf.n_support_)"
   ]
  },
  {
   "cell_type": "markdown",
   "metadata": {},
   "source": [
    "<p>最後還記得前面有一個難以辨識的9嗎，在訓練資料的第四筆，也就是陣列index為3的位置</p>\n",
    "<p>我們訓練出來的辨識器很成功的將這個數字辨識出來了!</p>"
   ]
  },
  {
   "cell_type": "code",
   "execution_count": 17,
   "metadata": {},
   "outputs": [
    {
     "data": {
      "text/plain": [
       "array([9.])"
      ]
     },
     "execution_count": 17,
     "metadata": {},
     "output_type": "execute_result"
    }
   ],
   "source": [
    "clf.predict(newX_train[3].reshape(1,-1))"
   ]
  },
  {
   "cell_type": "code",
   "execution_count": null,
   "metadata": {},
   "outputs": [],
   "source": []
  }
 ],
 "metadata": {
  "kernelspec": {
   "display_name": "Python 3",
   "language": "python",
   "name": "python3"
  },
  "language_info": {
   "codemirror_mode": {
    "name": "ipython",
    "version": 3
   },
   "file_extension": ".py",
   "mimetype": "text/x-python",
   "name": "python",
   "nbconvert_exporter": "python",
   "pygments_lexer": "ipython3",
   "version": "3.6.5"
  }
 },
 "nbformat": 4,
 "nbformat_minor": 2
}
