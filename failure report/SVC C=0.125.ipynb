{
 "cells": [
  {
   "cell_type": "code",
   "execution_count": 1,
   "metadata": {},
   "outputs": [],
   "source": [
    "import numpy as np\n",
    "import random\n",
    "import matplotlib.pyplot as plt\n",
    "from sklearn.decomposition import PCA\n",
    "from sklearn.neural_network import MLPClassifier\n",
    "from sklearn.datasets import fetch_mldata\n",
    "mnist = fetch_mldata('MNIST original') \n",
    "\n",
    "index = np.arange(len(mnist.data))\n",
    "random.shuffle(index)\n",
    "train_index = index[0:60000]\n",
    "test_index = index[60000:70000]\n",
    "X_train, y_train = mnist.data[train_index], mnist.target[train_index]\n",
    "X_test, y_test = mnist.data[test_index], mnist.target[test_index]\n",
    "\n",
    "pca = PCA(n_components=0.95 , svd_solver='full')\n",
    "newX_train = pca.fit_transform(X_train)\n",
    "newX_test = pca.transform(X_test)"
   ]
  },
  {
   "cell_type": "code",
   "execution_count": 2,
   "metadata": {},
   "outputs": [
    {
     "name": "stdout",
     "output_type": "stream",
     "text": [
      "0.1134\n",
      "0.1073\n",
      "2h 18min 58s ± 0 ns per loop (mean ± std. dev. of 1 run, 1 loop each)\n"
     ]
    }
   ],
   "source": [
    "%%timeit -n 1 -r 1\n",
    "from sklearn.svm import SVC\n",
    "clf = SVC(C = 0.125, decision_function_shape = 'ovo')\n",
    "clf.fit(newX_train, y_train)\n",
    "print(np.mean(clf.predict(newX_train) == y_train))\n",
    "print(np.mean(clf.predict(newX_test) == y_test))"
   ]
  },
  {
   "cell_type": "code",
   "execution_count": null,
   "metadata": {},
   "outputs": [],
   "source": []
  }
 ],
 "metadata": {
  "kernelspec": {
   "display_name": "Python 3",
   "language": "python",
   "name": "python3"
  },
  "language_info": {
   "codemirror_mode": {
    "name": "ipython",
    "version": 3
   },
   "file_extension": ".py",
   "mimetype": "text/x-python",
   "name": "python",
   "nbconvert_exporter": "python",
   "pygments_lexer": "ipython3",
   "version": "3.6.4"
  }
 },
 "nbformat": 4,
 "nbformat_minor": 2
}
