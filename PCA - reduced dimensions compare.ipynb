{
 "cells": [
  {
   "cell_type": "code",
   "execution_count": 1,
   "metadata": {},
   "outputs": [
    {
     "name": "stdout",
     "output_type": "stream",
     "text": [
      "0.9704\n",
      "0.9655\n"
     ]
    }
   ],
   "source": [
    "import numpy as np\n",
    "import random\n",
    "import matplotlib.pyplot as plt\n",
    "from sklearn.decomposition import PCA\n",
    "from sklearn.svm import SVC\n",
    "from sklearn.datasets import fetch_mldata\n",
    "mnist = fetch_mldata('MNIST original') \n",
    "\n",
    "index = np.arange(len(mnist.data))\n",
    "random.shuffle(index)\n",
    "train_index = index[0:60000]\n",
    "test_index = index[60000:70000]\n",
    "X_train, y_train = mnist.data[train_index], mnist.target[train_index]\n",
    "X_test, y_test = mnist.data[test_index], mnist.target[test_index]\n",
    "\n",
    "pca = PCA(n_components=0.97 , svd_solver='full')\n",
    "newX_train = pca.fit_transform(X_train)\n",
    "newX_test = pca.transform(X_test)\n",
    "newX_train = newX_train/255\n",
    "newX_test = newX_test/255\n",
    "\n",
    "clf = SVC()\n",
    "clf.fit(newX_train, y_train)\n",
    "print(np.mean(clf.predict(newX_train) == y_train))\n",
    "print(np.mean(clf.predict(newX_test) == y_test))"
   ]
  },
  {
   "cell_type": "code",
   "execution_count": 2,
   "metadata": {},
   "outputs": [
    {
     "name": "stdout",
     "output_type": "stream",
     "text": [
      "0.9887166666666667\n",
      "0.981\n",
      "2min 14s ± 0 ns per loop (mean ± std. dev. of 1 run, 1 loop each)\n"
     ]
    }
   ],
   "source": [
    "%%timeit -n 1 -r 1\n",
    "pca = PCA(n_components=60)\n",
    "newX_train = pca.fit_transform(X_train)\n",
    "newX_test = pca.transform(X_test)\n",
    "newX_train = newX_train/255\n",
    "newX_test = newX_test/255\n",
    "\n",
    "clf = SVC()\n",
    "clf.fit(newX_train, y_train)\n",
    "print(np.mean(clf.predict(newX_train) == y_train))\n",
    "print(np.mean(clf.predict(newX_test) == y_test))"
   ]
  },
  {
   "cell_type": "code",
   "execution_count": 3,
   "metadata": {},
   "outputs": [
    {
     "name": "stdout",
     "output_type": "stream",
     "text": [
      "0.97665\n",
      "0.9705\n"
     ]
    }
   ],
   "source": [
    "pca = PCA(n_components=0.95 , svd_solver='full')\n",
    "newX_train = pca.fit_transform(X_train)\n",
    "newX_test = pca.transform(X_test)\n",
    "newX_train = newX_train/255\n",
    "newX_test = newX_test/255\n",
    "\n",
    "clf = SVC()\n",
    "clf.fit(newX_train, y_train)\n",
    "print(np.mean(clf.predict(newX_train) == y_train))\n",
    "print(np.mean(clf.predict(newX_test) == y_test))"
   ]
  },
  {
   "cell_type": "code",
   "execution_count": 4,
   "metadata": {},
   "outputs": [
    {
     "name": "stdout",
     "output_type": "stream",
     "text": [
      "0.98995\n",
      "0.9821\n",
      "1min 58s ± 0 ns per loop (mean ± std. dev. of 1 run, 1 loop each)\n"
     ]
    }
   ],
   "source": [
    "%%timeit -n 1 -r 1\n",
    "pca = PCA(n_components=50)\n",
    "newX_train = pca.fit_transform(X_train)\n",
    "newX_test = pca.transform(X_test)\n",
    "newX_train = newX_train/255\n",
    "newX_test = newX_test/255\n",
    "\n",
    "clf = SVC()\n",
    "clf.fit(newX_train, y_train)\n",
    "print(np.mean(clf.predict(newX_train) == y_train))\n",
    "print(np.mean(clf.predict(newX_test) == y_test))"
   ]
  },
  {
   "cell_type": "code",
   "execution_count": 5,
   "metadata": {},
   "outputs": [
    {
     "name": "stdout",
     "output_type": "stream",
     "text": [
      "0.99105\n",
      "0.9826\n",
      "1min 40s ± 0 ns per loop (mean ± std. dev. of 1 run, 1 loop each)\n"
     ]
    }
   ],
   "source": [
    "%%timeit -n 1 -r 1\n",
    "pca = PCA(n_components=40)\n",
    "newX_train = pca.fit_transform(X_train)\n",
    "newX_test = pca.transform(X_test)\n",
    "newX_train = newX_train/255\n",
    "newX_test = newX_test/255\n",
    "\n",
    "clf = SVC()\n",
    "clf.fit(newX_train, y_train)\n",
    "print(np.mean(clf.predict(newX_train) == y_train))\n",
    "print(np.mean(clf.predict(newX_test) == y_test))"
   ]
  },
  {
   "cell_type": "code",
   "execution_count": 6,
   "metadata": {},
   "outputs": [
    {
     "name": "stdout",
     "output_type": "stream",
     "text": [
      "0.9912\n",
      "0.9836\n",
      "1min 30s ± 0 ns per loop (mean ± std. dev. of 1 run, 1 loop each)\n"
     ]
    }
   ],
   "source": [
    "%%timeit -n 1 -r 1\n",
    "pca = PCA(n_components=30)\n",
    "newX_train = pca.fit_transform(X_train)\n",
    "newX_test = pca.transform(X_test)\n",
    "newX_train = newX_train/255\n",
    "newX_test = newX_test/255\n",
    "\n",
    "clf = SVC()\n",
    "clf.fit(newX_train, y_train)\n",
    "print(np.mean(clf.predict(newX_train) == y_train))\n",
    "print(np.mean(clf.predict(newX_test) == y_test))"
   ]
  },
  {
   "cell_type": "code",
   "execution_count": 7,
   "metadata": {},
   "outputs": [
    {
     "name": "stdout",
     "output_type": "stream",
     "text": [
      "0.9889333333333333\n",
      "0.9788\n",
      "1min 16s ± 0 ns per loop (mean ± std. dev. of 1 run, 1 loop each)\n"
     ]
    }
   ],
   "source": [
    "%%timeit -n 1 -r 1\n",
    "pca = PCA(n_components=20)\n",
    "newX_train = pca.fit_transform(X_train)\n",
    "newX_test = pca.transform(X_test)\n",
    "newX_train = newX_train/255\n",
    "newX_test = newX_test/255\n",
    "\n",
    "clf = SVC()\n",
    "clf.fit(newX_train, y_train)\n",
    "print(np.mean(clf.predict(newX_train) == y_train))\n",
    "print(np.mean(clf.predict(newX_test) == y_test))"
   ]
  },
  {
   "cell_type": "code",
   "execution_count": 8,
   "metadata": {},
   "outputs": [
    {
     "name": "stdout",
     "output_type": "stream",
     "text": [
      "0.9906666666666667\n",
      "0.9824\n",
      "1min 23s ± 0 ns per loop (mean ± std. dev. of 1 run, 1 loop each)\n"
     ]
    }
   ],
   "source": [
    "%%timeit -n 1 -r 1\n",
    "pca = PCA(n_components=25)\n",
    "newX_train = pca.fit_transform(X_train)\n",
    "newX_test = pca.transform(X_test)\n",
    "newX_train = newX_train/255\n",
    "newX_test = newX_test/255\n",
    "\n",
    "clf = SVC()\n",
    "clf.fit(newX_train, y_train)\n",
    "print(np.mean(clf.predict(newX_train) == y_train))\n",
    "print(np.mean(clf.predict(newX_test) == y_test))"
   ]
  },
  {
   "cell_type": "code",
   "execution_count": 9,
   "metadata": {},
   "outputs": [
    {
     "name": "stdout",
     "output_type": "stream",
     "text": [
      "0.98325\n",
      "0.9766\n",
      "3min 25s ± 0 ns per loop (mean ± std. dev. of 1 run, 1 loop each)\n"
     ]
    }
   ],
   "source": [
    "%%timeit -n 1 -r 1\n",
    "pca = PCA(n_components=100)\n",
    "newX_train = pca.fit_transform(X_train)\n",
    "newX_test = pca.transform(X_test)\n",
    "newX_train = newX_train/255\n",
    "newX_test = newX_test/255\n",
    "\n",
    "clf = SVC()\n",
    "clf.fit(newX_train, y_train)\n",
    "print(np.mean(clf.predict(newX_train) == y_train))\n",
    "print(np.mean(clf.predict(newX_test) == y_test))"
   ]
  },
  {
   "cell_type": "code",
   "execution_count": 10,
   "metadata": {},
   "outputs": [
    {
     "name": "stdout",
     "output_type": "stream",
     "text": [
      "0.9603166666666667\n",
      "0.9453\n",
      "1min 14s ± 0 ns per loop (mean ± std. dev. of 1 run, 1 loop each)\n"
     ]
    }
   ],
   "source": [
    "%%timeit -n 1 -r 1\n",
    "pca = PCA(n_components=10)\n",
    "newX_train = pca.fit_transform(X_train)\n",
    "newX_test = pca.transform(X_test)\n",
    "newX_train = newX_train/255\n",
    "newX_test = newX_test/255\n",
    "\n",
    "clf = SVC()\n",
    "clf.fit(newX_train, y_train)\n",
    "print(np.mean(clf.predict(newX_train) == y_train))\n",
    "print(np.mean(clf.predict(newX_test) == y_test))"
   ]
  },
  {
   "cell_type": "code",
   "execution_count": 11,
   "metadata": {},
   "outputs": [
    {
     "name": "stdout",
     "output_type": "stream",
     "text": [
      "0.7815333333333333\n",
      "0.7686\n",
      "2min 1s ± 0 ns per loop (mean ± std. dev. of 1 run, 1 loop each)\n"
     ]
    }
   ],
   "source": [
    "%%timeit -n 1 -r 1\n",
    "pca = PCA(n_components=5)\n",
    "newX_train = pca.fit_transform(X_train)\n",
    "newX_test = pca.transform(X_test)\n",
    "newX_train = newX_train/255\n",
    "newX_test = newX_test/255\n",
    "\n",
    "clf = SVC()\n",
    "clf.fit(newX_train, y_train)\n",
    "print(np.mean(clf.predict(newX_train) == y_train))\n",
    "print(np.mean(clf.predict(newX_test) == y_test))"
   ]
  },
  {
   "cell_type": "code",
   "execution_count": 12,
   "metadata": {},
   "outputs": [
    {
     "name": "stdout",
     "output_type": "stream",
     "text": [
      "0.9717666666666667\n",
      "0.967\n",
      "6min 58s ± 0 ns per loop (mean ± std. dev. of 1 run, 1 loop each)\n"
     ]
    }
   ],
   "source": [
    "%%timeit -n 1 -r 1\n",
    "pca = PCA(n_components=200)\n",
    "newX_train = pca.fit_transform(X_train)\n",
    "newX_test = pca.transform(X_test)\n",
    "newX_train = newX_train/255\n",
    "newX_test = newX_test/255\n",
    "\n",
    "clf = SVC()\n",
    "clf.fit(newX_train, y_train)\n",
    "print(np.mean(clf.predict(newX_train) == y_train))\n",
    "print(np.mean(clf.predict(newX_test) == y_test))"
   ]
  },
  {
   "cell_type": "code",
   "execution_count": 13,
   "metadata": {},
   "outputs": [
    {
     "name": "stdout",
     "output_type": "stream",
     "text": [
      "0.30725\n",
      "0.3116\n",
      "7min ± 0 ns per loop (mean ± std. dev. of 1 run, 1 loop each)\n"
     ]
    }
   ],
   "source": [
    "%%timeit -n 1 -r 1\n",
    "pca = PCA(n_components=1)\n",
    "newX_train = pca.fit_transform(X_train)\n",
    "newX_test = pca.transform(X_test)\n",
    "newX_train = newX_train/255\n",
    "newX_test = newX_test/255\n",
    "\n",
    "clf = SVC()\n",
    "clf.fit(newX_train, y_train)\n",
    "print(np.mean(clf.predict(newX_train) == y_train))\n",
    "print(np.mean(clf.predict(newX_test) == y_test))"
   ]
  },
  {
   "cell_type": "code",
   "execution_count": null,
   "metadata": {},
   "outputs": [],
   "source": []
  }
 ],
 "metadata": {
  "kernelspec": {
   "display_name": "Python 3",
   "language": "python",
   "name": "python3"
  },
  "language_info": {
   "codemirror_mode": {
    "name": "ipython",
    "version": 3
   },
   "file_extension": ".py",
   "mimetype": "text/x-python",
   "name": "python",
   "nbconvert_exporter": "python",
   "pygments_lexer": "ipython3",
   "version": "3.6.5"
  }
 },
 "nbformat": 4,
 "nbformat_minor": 2
}
